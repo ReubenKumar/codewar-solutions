{
 "cells": [
  {
   "cell_type": "markdown",
   "id": "2fd34373-3b81-4381-87c3-08a0f627b1d6",
   "metadata": {},
   "source": [
    "Given two strings comprised of + and -, return a new string which shows how the two strings interact in the following way:\n",
    "\n",
    "When positives and positives interact, they remain positive.\n",
    "When negatives and negatives interact, they remain negative.\n",
    "But when negatives and positives interact, they become neutral, and are shown as the number 0.\n",
    "Worked Example\n",
    "(\"+-+\", \"+--\") ➞ \"+-0\"\n",
    "# Compare the first characters of each string, then the next in turn.\n",
    "# \"+\" against a \"+\" returns another \"+\".\n",
    "# \"-\" against a \"-\" returns another \"-\".\n",
    "# \"+\" against a \"-\" returns \"0\".\n",
    "# Return the string of characters.\n",
    "Examples\n",
    "(\"--++--\", \"++--++\") ➞ \"000000\"\n",
    "\n",
    "(\"-+-+-+\", \"-+-+-+\") ➞ \"-+-+-+\"\n",
    "\n",
    "(\"-++-\", \"-+-+\") ➞ \"-+00\""
   ]
  },
  {
   "cell_type": "code",
   "execution_count": 2,
   "id": "2d35daa8-6d53-4c1f-b512-3016a43250f0",
   "metadata": {},
   "outputs": [],
   "source": [
    "def neutralise(s1, s2):\n",
    "    # This function takes two equal length strings, which must consist of the following 3 characters + - 0\n",
    "\n",
    "    #create an empty string to keep new string values\n",
    "    out_str = ''\n",
    "    \n",
    "    #loop through the inputted strings\n",
    "    for x in range(len(s1)):\n",
    "        \n",
    "        # check condition \n",
    "        if s1[x] == s2[x]:\n",
    "            out_str += s1[x]\n",
    "        else:\n",
    "             out_str += '0'\n",
    "    return out_str\n",
    "            "
   ]
  },
  {
   "cell_type": "code",
   "execution_count": 8,
   "id": "cf6de563-b9a2-4c53-ab9a-8518624ef5d4",
   "metadata": {},
   "outputs": [
    {
     "name": "stdout",
     "output_type": "stream",
     "text": [
      "000000\n",
      "-+00\n",
      "00++\n",
      "++0--000-\n",
      "-----\n",
      "0+\n",
      "\n"
     ]
    }
   ],
   "source": [
    "print(neutralise(\"--++--\", \"++--++\"))\n",
    "print(neutralise(\"-++-\", \"-+-+\"))\n",
    "print(neutralise(\"--++\", \"++++\"))\n",
    "print(neutralise(\"+++--+---\", \"++----++-\"))\n",
    "print(neutralise(\"-----\", \"-----\"))\n",
    "print(neutralise(\"-+\", \"++\"))\n",
    "print(neutralise(\"\", \"\"))"
   ]
  }
 ],
 "metadata": {
  "kernelspec": {
   "display_name": "Python 3 (ipykernel)",
   "language": "python",
   "name": "python3"
  },
  "language_info": {
   "codemirror_mode": {
    "name": "ipython",
    "version": 3
   },
   "file_extension": ".py",
   "mimetype": "text/x-python",
   "name": "python",
   "nbconvert_exporter": "python",
   "pygments_lexer": "ipython3",
   "version": "3.9.21"
  }
 },
 "nbformat": 4,
 "nbformat_minor": 5
}
