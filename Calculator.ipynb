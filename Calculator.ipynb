{
 "cells": [
  {
   "cell_type": "markdown",
   "id": "cdc58ea1-ffff-4ca5-95e7-be2ec7a24df1",
   "metadata": {},
   "source": [
    "You have to write a calculator that receives strings for input. The dots will represent the number in the equation. There will be dots on one side, an operator, and dots again after the operator. The dots and the operator will be separated by one space.\n",
    "\n",
    "Here are the following valid operators :\n",
    "\n",
    "+ Addition\n",
    "- Subtraction\n",
    "* Multiplication\n",
    "// Integer Division\n",
    "Your Work (Task)\n",
    "You'll have to return a string that contains dots, as many the equation returns. If the result is 0, return the empty string. When it comes to subtraction, the first number will always be greater than or equal to the second number.\n",
    "\n",
    "Examples (Input => Output)\n",
    "* \"..... + ...............\" => \"....................\"\n",
    "* \"..... - ...\"             => \"..\"\n",
    "* \"..... - .\"               => \"....\"\n",
    "* \"..... * ...\"             => \"...............\"\n",
    "* \"..... * ..\"              => \"..........\"\n",
    "* \"..... // ..\"             => \"..\"\n",
    "* \"..... // .\"              => \".....\"\n",
    "* \". // ..\"                 => \"\"\n",
    "* \".. - ..\"                 => \"\""
   ]
  },
  {
   "cell_type": "code",
   "execution_count": 23,
   "id": "cf10cc7a-4eec-48e4-b6ef-c3b03bd203ce",
   "metadata": {},
   "outputs": [],
   "source": [
    "def calculator(txt):\n",
    "# This function expects one string consisting of two dot sequences separated by an operator in between 2 spaces\n",
    "    # operator must be one of +, -, * or //\n",
    "    \n",
    "    # get all 3 sections of the string\n",
    "    first,operation,second = txt.split()\n",
    "    #get the lengths of the first and second dots so operations can be used\n",
    "    first = len(first)\n",
    "    second = len(second)\n",
    "    # perform the specific operation on the first and second dot string\n",
    "    if operation == \"+\":\n",
    "        out = first + second\n",
    "    elif operation == \"-\":\n",
    "        out = first - second\n",
    "    elif operation == \"*\":\n",
    "        out = first * second\n",
    "    else:\n",
    "        out = first//second\n",
    "    #make sure the calculated number is returned as a string of dots\n",
    "    return out*'.'"
   ]
  },
  {
   "cell_type": "code",
   "execution_count": 24,
   "id": "9bcd4e31-943b-4604-9ac6-193e74b36a23",
   "metadata": {},
   "outputs": [
    {
     "name": "stdout",
     "output_type": "stream",
     "text": [
      "....................\n",
      "..\n",
      "....\n",
      "...............\n",
      "..........\n",
      "..\n",
      ".....\n",
      "\n",
      "\n"
     ]
    }
   ],
   "source": [
    "#tests\n",
    "print(calculator(\"..... + ...............\"))\n",
    "print(calculator(\"..... - ...\"))\n",
    "print(calculator(\"..... - .\"))\n",
    "print(calculator(\"..... * ...\"))\n",
    "print(calculator(\"..... * ..\"))\n",
    "print(calculator(\"..... // ..\"))\n",
    "print(calculator(\"..... // .\"))\n",
    "print(calculator(\". // ..\"))\n",
    "print(calculator(\". - .\"))\n"
   ]
  }
 ],
 "metadata": {
  "kernelspec": {
   "display_name": "Python 3 (ipykernel)",
   "language": "python",
   "name": "python3"
  },
  "language_info": {
   "codemirror_mode": {
    "name": "ipython",
    "version": 3
   },
   "file_extension": ".py",
   "mimetype": "text/x-python",
   "name": "python",
   "nbconvert_exporter": "python",
   "pygments_lexer": "ipython3",
   "version": "3.9.21"
  }
 },
 "nbformat": 4,
 "nbformat_minor": 5
}
