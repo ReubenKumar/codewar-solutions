{
 "cells": [
  {
   "cell_type": "markdown",
   "id": "6cda31bc-a09c-4f37-a37a-7628d7f42e08",
   "metadata": {},
   "source": [
    "             1\n",
    "          3     5\n",
    "       7     9    11\n",
    "   13    15    17    19\n",
    "21    23    25    27    29\n",
    "\n",
    "Calculate the sum of the numbers in the nth row of this triangle (starting at index 1) e.g.: (Input --> Output)\n",
    "1 -->  1\n",
    "2 --> 3 + 5 = 8"
   ]
  },
  {
   "cell_type": "code",
   "execution_count": 60,
   "id": "6279ccde-2b37-4b41-91b0-f053970263cc",
   "metadata": {},
   "outputs": [],
   "source": [
    "# the nth row has n numbers\n",
    "#each row increases by 1 number length\n",
    "\n",
    "def row_sum_odd_numbers(n):\n",
    "    count_row = 1  # keeps track of the current row number\n",
    "    num = 1       \n",
    "    while count_row != n+1:\n",
    "        out = []  # list to store numbers in the current row\n",
    "        for x in range(count_row):\n",
    "            out.append(num)  # add the next odd number to the current row\n",
    "            num += 2  \n",
    "        count_row += 1  # move to the next row\n",
    "    return sum(out)  "
   ]
  }
 ],
 "metadata": {
  "kernelspec": {
   "display_name": "Python 3 (ipykernel)",
   "language": "python",
   "name": "python3"
  },
  "language_info": {
   "codemirror_mode": {
    "name": "ipython",
    "version": 3
   },
   "file_extension": ".py",
   "mimetype": "text/x-python",
   "name": "python",
   "nbconvert_exporter": "python",
   "pygments_lexer": "ipython3",
   "version": "3.9.21"
  }
 },
 "nbformat": 4,
 "nbformat_minor": 5
}
