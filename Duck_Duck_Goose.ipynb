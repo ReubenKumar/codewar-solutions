{
 "cells": [
  {
   "cell_type": "markdown",
   "id": "4cdff1b5-fbc0-4865-bd24-4a313660c081",
   "metadata": {},
   "source": [
    "Description:\n",
    "The objective of Duck, duck, goose is to walk in a circle, tapping on each player's head until one is chosen.\n",
    "\n",
    "Task:\n",
    "\n",
    "Given an array of Player objects and a position (first position is 1), return the name of the chosen Player.\n",
    "name is a property of Player objects, e.g Player.name"
   ]
  },
  {
   "cell_type": "code",
   "execution_count": 31,
   "id": "ef0f1656-f2fd-4606-9ac8-b7a2e1df3197",
   "metadata": {},
   "outputs": [],
   "source": [
    "def duck_duck_goose(players, goose):\n",
    "    # this function expects an array of strings and an integer greater than 0\n",
    "    \n",
    "    return players[goose%len(players)-1]"
   ]
  },
  {
   "cell_type": "code",
   "execution_count": 43,
   "id": "c8f9ad94-32e4-4405-a092-3d6bfcc9509a",
   "metadata": {},
   "outputs": [
    {
     "name": "stdout",
     "output_type": "stream",
     "text": [
      "a\n",
      "a\n",
      "b\n",
      "d\n",
      "b\n"
     ]
    }
   ],
   "source": [
    "#test\n",
    "print(duck_duck_goose(['a','b','c','d'],1))\n",
    "print(duck_duck_goose(['a','b','c','d'],5))\n",
    "print(duck_duck_goose(['a','b','c','d'],6))\n",
    "print(duck_duck_goose(['a','b','c','d'],4))\n",
    "print(duck_duck_goose(['a','b','c','d'],10))"
   ]
  }
 ],
 "metadata": {
  "kernelspec": {
   "display_name": "Python 3 (ipykernel)",
   "language": "python",
   "name": "python3"
  },
  "language_info": {
   "codemirror_mode": {
    "name": "ipython",
    "version": 3
   },
   "file_extension": ".py",
   "mimetype": "text/x-python",
   "name": "python",
   "nbconvert_exporter": "python",
   "pygments_lexer": "ipython3",
   "version": "3.9.21"
  }
 },
 "nbformat": 4,
 "nbformat_minor": 5
}
