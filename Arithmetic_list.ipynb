{
 "cells": [
  {
   "cell_type": "code",
   "execution_count": null,
   "id": "8eca010f-e016-4675-90f9-9003479805d2",
   "metadata": {},
   "outputs": [],
   "source": [
    "In this kata, you will write an arithmetic list which is basically a list that contains consecutive terms in the sequence.\n",
    "You will be given three parameters :\n",
    "\n",
    "first the first term in the sequence\n",
    "c the constant that you are going to ADD ( since it is an arithmetic sequence...)\n",
    "l the number of terms that should be returned"
   ]
  },
  {
   "cell_type": "code",
   "execution_count": 10,
   "id": "3b6357c6-241b-487d-9b30-fa9e5f39dba7",
   "metadata": {},
   "outputs": [],
   "source": [
    "def seqlist(first, c, l):\n",
    "    # Input into this function must be 3 integers\n",
    "    out = [first]\n",
    "    #loop l number of times \n",
    "    for x in range(l-1):\n",
    "        # Add the c integer to the continuously increasing value\n",
    "        first += c\n",
    "        # add the the continuously increasing value to the output list.\n",
    "        out.append(first)\n",
    "    return out"
   ]
  },
  {
   "cell_type": "code",
   "execution_count": 14,
   "id": "b3689d6f-fac7-48d5-afef-b391eae21cb4",
   "metadata": {},
   "outputs": [
    {
     "name": "stdout",
     "output_type": "stream",
     "text": [
      "[0, 1, 2, 3, 4, 5, 6, 7, 8, 9, 10, 11, 12, 13, 14, 15, 16, 17, 18, 19]\n",
      "[100, 95, 90, 85, 80, 75, 70, 65, 60, 55, 50, 45, 40, 35, 30, 25, 20, 15, 10, 5]\n",
      "[80, 84, 88, 92, 96, 100, 104, 108, 112, 116]\n",
      "[60, 58, 56, 54, 52, 50, 48, 46, 44, 42]\n"
     ]
    }
   ],
   "source": [
    "#tests\n",
    "print(seqlist(0,1,20))\n",
    "print(seqlist(100,-5,20))\n",
    "print(seqlist(80,4,10))\n",
    "print(seqlist(60,-2,10))"
   ]
  }
 ],
 "metadata": {
  "kernelspec": {
   "display_name": "Python 3 (ipykernel)",
   "language": "python",
   "name": "python3"
  },
  "language_info": {
   "codemirror_mode": {
    "name": "ipython",
    "version": 3
   },
   "file_extension": ".py",
   "mimetype": "text/x-python",
   "name": "python",
   "nbconvert_exporter": "python",
   "pygments_lexer": "ipython3",
   "version": "3.9.21"
  }
 },
 "nbformat": 4,
 "nbformat_minor": 5
}
