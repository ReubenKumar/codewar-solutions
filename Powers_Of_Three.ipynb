{
 "cells": [
  {
   "cell_type": "markdown",
   "id": "b4035caf-218b-4369-a346-7fdf2fb988d1",
   "metadata": {},
   "source": [
    "Given a positive integer N, return the largest integer k such that 3^k < N.\n",
    "\n",
    "For example,\n",
    "\n",
    "3 --> 0\n",
    "\n",
    "4 --> 1\n",
    "\n",
    "You may assume that the input to your function is always a positive integer."
   ]
  },
  {
   "cell_type": "code",
   "execution_count": 4,
   "id": "ff16568a-18e8-4fdb-8240-ddbb007faf8a",
   "metadata": {},
   "outputs": [],
   "source": [
    "def largest_power(N):\n",
    "    # N must be a positive integer greater than 3.\n",
    "    # This function returns the largest integer k such that 3^k < N.\n",
    "    k = 0\n",
    "    # loop until the correct x value is found \n",
    "    while 3**k < N:\n",
    "        k += 1\n",
    "    # -1 from the k value because the loop will always go one past the correct value.\n",
    "    return k-1"
   ]
  },
  {
   "cell_type": "code",
   "execution_count": 10,
   "id": "2c0d9dec-0df5-4933-8c4c-c7d53b0ff394",
   "metadata": {},
   "outputs": [
    {
     "name": "stdout",
     "output_type": "stream",
     "text": [
      "2\n",
      "4\n",
      "2\n",
      "4\n",
      "1\n"
     ]
    }
   ],
   "source": [
    "#tests\n",
    "print(largest_power(10))\n",
    "print(largest_power(100))\n",
    "print(largest_power(21))\n",
    "print(largest_power(123))\n",
    "print(largest_power(4))"
   ]
  }
 ],
 "metadata": {
  "kernelspec": {
   "display_name": "Python 3 (ipykernel)",
   "language": "python",
   "name": "python3"
  },
  "language_info": {
   "codemirror_mode": {
    "name": "ipython",
    "version": 3
   },
   "file_extension": ".py",
   "mimetype": "text/x-python",
   "name": "python",
   "nbconvert_exporter": "python",
   "pygments_lexer": "ipython3",
   "version": "3.9.21"
  }
 },
 "nbformat": 4,
 "nbformat_minor": 5
}
