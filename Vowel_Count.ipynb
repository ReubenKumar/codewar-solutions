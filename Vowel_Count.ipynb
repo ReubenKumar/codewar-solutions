{
 "cells": [
  {
   "cell_type": "markdown",
   "id": "d3b7719c-db16-48b2-918c-d1570d522b73",
   "metadata": {},
   "source": [
    "Return the number (count) of vowels in the given string.\n",
    "\n",
    "We will consider a, e, i, o, u as vowels for this Kata (but not y).\n",
    "\n",
    "The input string will only consist of lower case letters and/or spaces."
   ]
  },
  {
   "cell_type": "code",
   "execution_count": 6,
   "id": "8d991f3c-e75d-43e4-974d-f09bf60dc01d",
   "metadata": {},
   "outputs": [],
   "source": [
    "def get_count(sentence):\n",
    "    #This function returns the number of vowels in a string\n",
    "    #sentence must be a single string in lowercase only, including letters or spaces.\n",
    "    \n",
    "    count = 0\n",
    "    #loop through each character in the string\n",
    "    for x in range(len(sentence)):\n",
    "        \n",
    "    #check if the current character is a vowel\n",
    "        if sentence[x] in [\"a\",\"e\",\"i\",\"o\",\"u\"]:\n",
    "            count += 1\n",
    "            \n",
    "    return count"
   ]
  },
  {
   "cell_type": "code",
   "execution_count": 11,
   "id": "10b00305-0e50-45b8-9f20-f745007ce209",
   "metadata": {},
   "outputs": [
    {
     "name": "stdout",
     "output_type": "stream",
     "text": [
      "7\n",
      "0\n",
      "10\n",
      "0\n",
      "0\n",
      "5\n"
     ]
    }
   ],
   "source": [
    "print(get_count(\"Should count all vowels\"))\n",
    "print(get_count(\"bcdfghjklmnpqrstvwxz y\"))\n",
    "print(get_count(\"Should return 5 for \\\"abracadabra\\\"\"))\n",
    "print(get_count(\"       \"))\n",
    "print(get_count(\"\"))\n",
    "print(get_count(\"aeiou\"))"
   ]
  }
 ],
 "metadata": {
  "kernelspec": {
   "display_name": "Python 3 (ipykernel)",
   "language": "python",
   "name": "python3"
  },
  "language_info": {
   "codemirror_mode": {
    "name": "ipython",
    "version": 3
   },
   "file_extension": ".py",
   "mimetype": "text/x-python",
   "name": "python",
   "nbconvert_exporter": "python",
   "pygments_lexer": "ipython3",
   "version": "3.9.21"
  }
 },
 "nbformat": 4,
 "nbformat_minor": 5
}
