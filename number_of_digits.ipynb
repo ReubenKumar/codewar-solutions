{
 "cells": [
  {
   "cell_type": "markdown",
   "id": "c39287fa-fe82-49d0-975d-15629b4798c9",
   "metadata": {},
   "source": [
    "Determine the total number of digits in the integer (n>=0) given as input to the function. For example, 9 is a single digit, 66 has 2 digits and 128685 has 6 digits. Be careful to avoid overflows/underflows.\n",
    "\n",
    "All inputs will be valid."
   ]
  },
  {
   "cell_type": "code",
   "execution_count": 3,
   "id": "11ac8624-773e-4ef7-99fb-700b044aa13f",
   "metadata": {},
   "outputs": [],
   "source": [
    "def digits(n):\n",
    "    #n must be a positive integer\n",
    "    return len(str(n))"
   ]
  },
  {
   "cell_type": "code",
   "execution_count": 5,
   "id": "5ad89558-147e-4480-a8df-ee3e8e0daff2",
   "metadata": {},
   "outputs": [
    {
     "name": "stdout",
     "output_type": "stream",
     "text": [
      "1\n",
      "5\n",
      "1\n",
      "6\n",
      "7\n"
     ]
    }
   ],
   "source": [
    "print(digits(0))\n",
    "print(digits(12345))\n",
    "print(digits(1))\n",
    "print(digits(101001))\n",
    "print(digits(-239394))"
   ]
  }
 ],
 "metadata": {
  "kernelspec": {
   "display_name": "Python 3 (ipykernel)",
   "language": "python",
   "name": "python3"
  },
  "language_info": {
   "codemirror_mode": {
    "name": "ipython",
    "version": 3
   },
   "file_extension": ".py",
   "mimetype": "text/x-python",
   "name": "python",
   "nbconvert_exporter": "python",
   "pygments_lexer": "ipython3",
   "version": "3.9.21"
  }
 },
 "nbformat": 4,
 "nbformat_minor": 5
}
