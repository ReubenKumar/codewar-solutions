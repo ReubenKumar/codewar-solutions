{
 "cells": [
  {
   "cell_type": "markdown",
   "id": "dd16a647-c959-42d9-9985-de8032ff79ac",
   "metadata": {},
   "source": [
    "Write a function which calculates the average of the numbers in a given array.\n",
    "\n",
    "Note: Empty arrays should return 0."
   ]
  },
  {
   "cell_type": "code",
   "execution_count": 9,
   "id": "85c150b1-1ff6-4e6c-b3b5-005355e52cd6",
   "metadata": {},
   "outputs": [],
   "source": [
    "def find_average(numbers):\n",
    "    # This function expects an array of numbers and outputs the average.\n",
    "    \n",
    "    # account for an empty array - if empty, return 0\n",
    "    if len(numbers) == 0:\n",
    "        return 0\n",
    "    else:\n",
    "    # If the array is not empty, count all of the values and divide by the number of values.\n",
    "        count = 0\n",
    "        for x in numbers:\n",
    "            count += x\n",
    "        return count / len(numbers)\n",
    "    "
   ]
  },
  {
   "cell_type": "code",
   "execution_count": 13,
   "id": "d50e24b4-70e2-41b5-b508-6582408c9ecb",
   "metadata": {},
   "outputs": [
    {
     "name": "stdout",
     "output_type": "stream",
     "text": [
      "2.0\n",
      "5.0\n",
      "0\n",
      "15.0\n",
      "1.15\n"
     ]
    }
   ],
   "source": [
    "#tests\n",
    "\n",
    "print(find_average([1,2,3]))\n",
    "print(find_average([5,5,5,5,5]))\n",
    "print(find_average([]))\n",
    "print(find_average([10,20]))\n",
    "print(find_average([1.1,1.2]))"
   ]
  }
 ],
 "metadata": {
  "kernelspec": {
   "display_name": "Python 3 (ipykernel)",
   "language": "python",
   "name": "python3"
  },
  "language_info": {
   "codemirror_mode": {
    "name": "ipython",
    "version": 3
   },
   "file_extension": ".py",
   "mimetype": "text/x-python",
   "name": "python",
   "nbconvert_exporter": "python",
   "pygments_lexer": "ipython3",
   "version": "3.9.21"
  }
 },
 "nbformat": 4,
 "nbformat_minor": 5
}
