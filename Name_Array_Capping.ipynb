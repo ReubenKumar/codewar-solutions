{
 "cells": [
  {
   "cell_type": "markdown",
   "id": "4ab36733-0019-4c99-ae60-25250250df67",
   "metadata": {},
   "source": [
    "Create a function that accepts an array of names, and returns an array of each name with its first letter capitalized and the remainder in lowercase."
   ]
  },
  {
   "cell_type": "code",
   "execution_count": 25,
   "id": "2bb1a8b4-43b3-4df7-a0d9-111516d7d05e",
   "metadata": {},
   "outputs": [],
   "source": [
    "def cap_me(arr):\n",
    "    #This function accepts an array of names, and returns an array of each name with its first letter capitalised and the remainder in lowercase.\n",
    "    # arr must be an array of strings.\n",
    "    \n",
    "    out = []\n",
    "    #deal with empty strings first\n",
    "    for x in arr:\n",
    "        if len(x) < 1:\n",
    "            out.append(x)\n",
    "        else:\n",
    "            #make the word x have a capitalised first letter and the remaining letters lower.\n",
    "            start = x[0].upper()\n",
    "            end = x[1:].lower()\n",
    "            #add the new word to the output list\n",
    "            out.append(start+end)\n",
    "    return out"
   ]
  },
  {
   "cell_type": "code",
   "execution_count": 26,
   "id": "2ec5b020-38a8-48af-a300-a3e3dc479137",
   "metadata": {},
   "outputs": [
    {
     "name": "stdout",
     "output_type": "stream",
     "text": [
      "['Jo', 'Nelson', 'Jurie']\n",
      "[]\n",
      "['Ozza', 'Arra', 'Azza']\n",
      "['Ror', 'Nor', 'Xor']\n",
      "['Karly', 'Daniel', 'Kelsey']\n",
      "['Crwhpphygopn', 'P', 'Flvcguvcbzov', 'Faet', 'Zfwqqav', 'Akbp', 'Bfka', 'Foyz', 'Follgriwra', 'Jdihlc', 'Lxjgnrmucrj', 'Bgkhdavtrbus', 'Ihtx', 'Fsqy', 'Xvcpl', 'Czpjgprzoc', 'Jsd']\n",
      "['', '', '']\n"
     ]
    }
   ],
   "source": [
    "#tests\n",
    "print(cap_me([\"jo\", \"nelson\", \"jurie\"]))\n",
    "print(cap_me([]))\n",
    "print(cap_me([\"OZZA\", \"ARRA\", \"AZZA\"]))\n",
    "print(cap_me([\"Ror\", \"NOR\", \"xor\"]))\n",
    "print(cap_me([\"KARLY\", \"DANIEL\", \"KELSEY\"]))\n",
    "print(cap_me([ 'cRWHPphygOPn', 'P', 'fLvcGuvcbzov', 'FaeT', 'zFWQqAv', 'aKBp', 'BfKA', 'fOYz', 'FOLLGRiwra', 'jDIHLC', 'LxJGnRmUCRj', 'bgkhDaVtRBuS', 'IHtX', 'FsQY', 'XVcpL', 'CZPjgprzOc', 'jSd']))\n",
    "print(cap_me(['', '', '']))"
   ]
  }
 ],
 "metadata": {
  "kernelspec": {
   "display_name": "Python 3 (ipykernel)",
   "language": "python",
   "name": "python3"
  },
  "language_info": {
   "codemirror_mode": {
    "name": "ipython",
    "version": 3
   },
   "file_extension": ".py",
   "mimetype": "text/x-python",
   "name": "python",
   "nbconvert_exporter": "python",
   "pygments_lexer": "ipython3",
   "version": "3.9.21"
  }
 },
 "nbformat": 4,
 "nbformat_minor": 5
}
