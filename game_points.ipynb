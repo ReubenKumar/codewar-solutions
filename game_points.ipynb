{
 "cells": [
  {
   "cell_type": "markdown",
   "id": "5b194591-d0a8-472b-8823-067a971d3e39",
   "metadata": {},
   "source": [
    "Our football team has finished the championship.\n",
    "\n",
    "Our team's match results are recorded in a collection of strings. Each match is represented by a string in the format \"x:y\", where x is our team's score and y is our opponents score.\n",
    "\n",
    "For example: [\"3:1\", \"2:2\", \"0:1\", ...]\n",
    "\n",
    "Points are awarded for each match as follows:\n",
    "\n",
    "if x > y: 3 points (win)\n",
    "if x < y: 0 points (loss)\n",
    "if x = y: 1 point (tie)\n",
    "We need to write a function that takes this collection and returns the number of points our team (x) got in the championship by the rules given above.\n",
    "\n",
    "Notes:\n",
    "\n",
    "our team always plays 10 matches in the championship\n",
    "0 <= x <= 4\n",
    "0 <= y <= 4"
   ]
  },
  {
   "cell_type": "code",
   "execution_count": 1,
   "id": "fa1b1551-d318-4f4d-865d-d63bb1a1a901",
   "metadata": {},
   "outputs": [],
   "source": [
    "def points(games):\n",
    "    #games must be an array of 10 games, with each game having the structure 'x:y'\n",
    "    #scores x and y must be integers 0 =< x <10\n",
    "    \n",
    "    points = 0\n",
    "    #loop through each game\n",
    "    for i in games:\n",
    "        #get scores forgame i\n",
    "        x = i[0]\n",
    "        y = i[2]\n",
    "        #calculate points for game i\n",
    "        if x > y:\n",
    "            points += 3\n",
    "        if x == y:\n",
    "            points += 1\n",
    "    return points"
   ]
  },
  {
   "cell_type": "code",
   "execution_count": 2,
   "id": "2b839ce5-2c53-401d-93fa-0148733a7637",
   "metadata": {},
   "outputs": [
    {
     "name": "stdout",
     "output_type": "stream",
     "text": [
      "30\n",
      "10\n",
      "0\n",
      "15\n",
      "12\n"
     ]
    }
   ],
   "source": [
    "print(points(['1:0','2:0','3:0','4:0','2:1','3:1','4:1','3:2','4:2','4:3']))\n",
    "print(points(['1:1','2:2','3:3','4:4','2:2','3:3','4:4','3:3','4:4','4:4']))\n",
    "print(points(['0:1','0:2','0:3','0:4','1:2','1:3','1:4','2:3','2:4','3:4']))\n",
    "print(points(['1:0','2:0','3:0','4:0','2:1','1:3','1:4','2:3','2:4','3:4']))\n",
    "print(points(['1:0','2:0','3:0','4:4','2:2','3:3','1:4','2:3','2:4','3:4']))\n",
    "\n",
    "    "
   ]
  }
 ],
 "metadata": {
  "kernelspec": {
   "display_name": "Python 3 (ipykernel)",
   "language": "python",
   "name": "python3"
  },
  "language_info": {
   "codemirror_mode": {
    "name": "ipython",
    "version": 3
   },
   "file_extension": ".py",
   "mimetype": "text/x-python",
   "name": "python",
   "nbconvert_exporter": "python",
   "pygments_lexer": "ipython3",
   "version": "3.9.21"
  }
 },
 "nbformat": 4,
 "nbformat_minor": 5
}
