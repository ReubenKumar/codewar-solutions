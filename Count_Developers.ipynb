{
 "cells": [
  {
   "cell_type": "markdown",
   "id": "b8c14ba0-5dd1-493d-a35b-52c08e67b18a",
   "metadata": {},
   "source": [
    "You will be given an array of objects (hashes in ruby) representing data about developers who have signed up to attend the coding meetup that you are organising for the first time.\n",
    "\n",
    "Your task is to return the number of JavaScript developers coming from Europe."
   ]
  },
  {
   "cell_type": "code",
   "execution_count": 29,
   "id": "fc88551f-897f-42f1-b1ea-4e23819f509f",
   "metadata": {},
   "outputs": [],
   "source": [
    "def count_developers(lst):\n",
    "    # This function requires an array of objects (hashes in ruby) representing data about developers\n",
    "    \n",
    "    # This function outputs the number of JavaScript developers coming from Europe.\n",
    "    count = 0\n",
    "    \n",
    "    #loop through the array\n",
    "    for x in range(len(lst)):\n",
    "        # Check if the current individual is both a JavaScript developer and from Europe. \n",
    "        if (lst[x]['continent'])=='Europe' and (lst[x]['language'])=='JavaScript':\n",
    "            count += 1\n",
    "    return count"
   ]
  },
  {
   "cell_type": "code",
   "execution_count": 30,
   "id": "e4938f66-a4dc-4122-9c6c-670888483b6f",
   "metadata": {},
   "outputs": [
    {
     "data": {
      "text/plain": [
       "1"
      ]
     },
     "execution_count": 30,
     "metadata": {},
     "output_type": "execute_result"
    }
   ],
   "source": [
    "#test \n",
    "lst1 = [\n",
    "  { 'firstName': 'Noah', 'lastName': 'M.', 'country': 'Switzerland', 'continent': 'Europe', 'age': 19, 'language': 'JavaScript' },\n",
    "  { 'firstName': 'Maia', 'lastName': 'S.', 'country': 'Tahiti', 'continent': 'Oceania', 'age': 28, 'language': 'JavaScript' },\n",
    "  { 'firstName': 'Shufen', 'lastName': 'L.', 'country': 'Taiwan', 'continent': 'Asia', 'age': 35, 'language': 'HTML' },\n",
    "  { 'firstName': 'Sumayah', 'lastName': 'M.', 'country': 'Tajikistan', 'continent': 'Asia', 'age': 30, 'language': 'CSS' }\n",
    "]\n",
    "\n",
    "count_developers(lst1)"
   ]
  }
 ],
 "metadata": {
  "kernelspec": {
   "display_name": "Python 3 (ipykernel)",
   "language": "python",
   "name": "python3"
  },
  "language_info": {
   "codemirror_mode": {
    "name": "ipython",
    "version": 3
   },
   "file_extension": ".py",
   "mimetype": "text/x-python",
   "name": "python",
   "nbconvert_exporter": "python",
   "pygments_lexer": "ipython3",
   "version": "3.9.21"
  }
 },
 "nbformat": 4,
 "nbformat_minor": 5
}
