{
 "cells": [
  {
   "cell_type": "markdown",
   "id": "13613738-f3ef-46a0-928c-c48f640126dc",
   "metadata": {},
   "source": [
    "There was a test in your class and you passed it. Congratulations!\n",
    "\n",
    "But you're an ambitious person. You want to know if you're better than the average student in your class.\n",
    "\n",
    "You receive an array with your peers' test scores. Now calculate the average and compare your score!\n",
    "\n",
    "Return true if you're better, else false!\n",
    "\n",
    "Note:\n",
    "Your points are not included in the array of your class's points. Do not forget them when calculating the average score!"
   ]
  },
  {
   "cell_type": "code",
   "execution_count": 10,
   "id": "2a029774-9c81-4c7e-b705-441422f3a941",
   "metadata": {},
   "outputs": [],
   "source": [
    "def better_than_average(class_points, your_points):\n",
    "    #  This function expects an array and an integer as input\n",
    "    \n",
    "    # work out the average\n",
    "    class_avg = (sum(class_points)+your_points)/(len(class_points)+1)\n",
    "\n",
    "    # output true or false based on the following condition\n",
    "    if class_avg < your_points:\n",
    "        return True\n",
    "    else:\n",
    "        return False\n",
    "        "
   ]
  },
  {
   "cell_type": "code",
   "execution_count": 11,
   "id": "0b8592b0-6baa-4389-a2b6-65e192871cec",
   "metadata": {},
   "outputs": [
    {
     "name": "stdout",
     "output_type": "stream",
     "text": [
      "True\n",
      "True\n",
      "True\n",
      "False\n",
      "False\n"
     ]
    }
   ],
   "source": [
    "#tests\n",
    "print(better_than_average([2, 3], 5))\n",
    "print(better_than_average([100, 40, 34, 57, 29, 72, 57, 88], 75))\n",
    "print(better_than_average([12, 23, 34, 45, 56, 67, 78, 89, 90], 69))\n",
    "print(better_than_average([41, 75, 72, 56, 80, 82, 81, 33], 50))\n",
    "print(better_than_average([29, 55, 74, 60, 11, 90, 67, 28], 21))"
   ]
  }
 ],
 "metadata": {
  "kernelspec": {
   "display_name": "Python 3 (ipykernel)",
   "language": "python",
   "name": "python3"
  },
  "language_info": {
   "codemirror_mode": {
    "name": "ipython",
    "version": 3
   },
   "file_extension": ".py",
   "mimetype": "text/x-python",
   "name": "python",
   "nbconvert_exporter": "python",
   "pygments_lexer": "ipython3",
   "version": "3.9.21"
  }
 },
 "nbformat": 4,
 "nbformat_minor": 5
}
