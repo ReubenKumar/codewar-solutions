{
 "cells": [
  {
   "cell_type": "markdown",
   "id": "ff8fb4af-c6c1-4428-9b79-5a2c12d33bb8",
   "metadata": {},
   "source": [
    "Given an array of integers, return a new array with each value doubled.\n",
    "\n",
    "For example:\n",
    "\n",
    "[1, 2, 3] --> [2, 4, 6]"
   ]
  },
  {
   "cell_type": "code",
   "execution_count": 1,
   "id": "c24f6419-60f4-4d42-87d0-acf80ca21d03",
   "metadata": {},
   "outputs": [],
   "source": [
    "def maps(a):\n",
    "    out = []\n",
    "    #loop through array values\n",
    "    for x in a:\n",
    "        #double value x and add to output array\n",
    "        out.append(x*2)\n",
    "    return out"
   ]
  },
  {
   "cell_type": "code",
   "execution_count": 2,
   "id": "ad4d762e-64b7-4367-a1b8-b7f7bcf80f6a",
   "metadata": {},
   "outputs": [
    {
     "name": "stdout",
     "output_type": "stream",
     "text": [
      "[2, 4, 6]\n",
      "[0, 2, 4, 6, 8, 10, 12, 14, 16, 18]\n",
      "[]\n"
     ]
    }
   ],
   "source": [
    "print(maps([1, 2, 3]))\n",
    "print(maps([0, 1, 2, 3, 4, 5, 6, 7, 8, 9]))\n",
    "print(maps([]))"
   ]
  }
 ],
 "metadata": {
  "kernelspec": {
   "display_name": "Python 3 (ipykernel)",
   "language": "python",
   "name": "python3"
  },
  "language_info": {
   "codemirror_mode": {
    "name": "ipython",
    "version": 3
   },
   "file_extension": ".py",
   "mimetype": "text/x-python",
   "name": "python",
   "nbconvert_exporter": "python",
   "pygments_lexer": "ipython3",
   "version": "3.9.21"
  }
 },
 "nbformat": 4,
 "nbformat_minor": 5
}
