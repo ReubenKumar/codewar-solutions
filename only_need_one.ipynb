{
 "cells": [
  {
   "cell_type": "markdown",
   "id": "5d26e0cc-17a0-4a0c-913a-8aa075a7ae2c",
   "metadata": {},
   "source": [
    "You will be given an array a and a value x. All you need to do is check whether the provided array contains the value.\n",
    "\n",
    "a can contain numbers or strings. x can be either.\n",
    "\n",
    "Return true if the array contains the value, false if not."
   ]
  },
  {
   "cell_type": "code",
   "execution_count": 11,
   "id": "bb86bdbe-f137-484b-8b46-ca7323f1b863",
   "metadata": {},
   "outputs": [],
   "source": [
    "def check(seq, elem):\n",
    "#Check whether the provided array contains the provided value.\n",
    "#array seq must contain numbers or strings, elem can be either.\n",
    "    \n",
    "    # loop through array\n",
    "    for x in (seq):\n",
    "        # check if array value is the same as the element\n",
    "        if x == elem:\n",
    "            return True\n",
    "    return False"
   ]
  },
  {
   "cell_type": "code",
   "execution_count": 18,
   "id": "c345b6b4-2872-447a-a0ba-71a01dab44e9",
   "metadata": {},
   "outputs": [
    {
     "name": "stdout",
     "output_type": "stream",
     "text": [
      "False\n",
      "True\n",
      "True\n",
      "False\n"
     ]
    }
   ],
   "source": [
    "print(check([78, 117, 110, 99, 104, 117, 107, 115], 8))\n",
    "print(check([80, 117, 115, 104, 45, 85, 112, 115], 45))\n",
    "print(check([\"can\", \"on\", 1101, \"2501\", 82, '!??', 7, 1520], \"can\"))\n",
    "print(check([\"srjhvbf\", \"onwec\", \"2sdc\", \"lsvjb19\", \"!??\", \"jj\"], \"wjecbjweb\"))"
   ]
  }
 ],
 "metadata": {
  "kernelspec": {
   "display_name": "Python 3 (ipykernel)",
   "language": "python",
   "name": "python3"
  },
  "language_info": {
   "codemirror_mode": {
    "name": "ipython",
    "version": 3
   },
   "file_extension": ".py",
   "mimetype": "text/x-python",
   "name": "python",
   "nbconvert_exporter": "python",
   "pygments_lexer": "ipython3",
   "version": "3.9.21"
  }
 },
 "nbformat": 4,
 "nbformat_minor": 5
}
