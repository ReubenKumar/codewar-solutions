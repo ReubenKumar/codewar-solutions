{
 "cells": [
  {
   "cell_type": "markdown",
   "id": "e62d18c1-0c1b-4dda-8da2-5e4ec9b50f3c",
   "metadata": {},
   "source": [
    "Build a pyramid-shaped tower, as an array/list of strings, given a positive integer number of floors. A tower block is represented with \"*\" character.\n",
    "\n",
    "For example, a tower with 3 floors looks like this:"
   ]
  },
  {
   "cell_type": "code",
   "execution_count": 85,
   "id": "7f0e6d47-94c0-4b6e-bbb3-1aad1388a6c0",
   "metadata": {},
   "outputs": [],
   "source": [
    "def tower_builder(n_floors):\n",
    "    #assume n_floors is a positive integer\n",
    "\n",
    "    star = \"*\"\n",
    "    space = \" \" * (n_floors-1)\n",
    "    out = []\n",
    "    \n",
    "    for x in range(n_floors):\n",
    "        \n",
    "        # create one level of the pyramid and add o the output list.\n",
    "        value = (space + star + space)\n",
    "        out.append(value)\n",
    "        \n",
    "        # get the next amount of *'s and spaces.\n",
    "        star = \"*\" + star + \"*\" \n",
    "        space = space[:-1]\n",
    "        \n",
    "    return out"
   ]
  },
  {
   "cell_type": "code",
   "execution_count": 86,
   "id": "3a61a113-1eab-4432-98cb-c2c4db659267",
   "metadata": {},
   "outputs": [
    {
     "name": "stdout",
     "output_type": "stream",
     "text": [
      "['*']\n",
      "[' * ', '***']\n",
      "['    *    ', '   ***   ', '  *****  ', ' ******* ', '*********']\n"
     ]
    }
   ],
   "source": [
    "print(tower_builder(1))\n",
    "print(tower_builder(2))\n",
    "print(tower_builder(5))"
   ]
  }
 ],
 "metadata": {
  "kernelspec": {
   "display_name": "Python 3 (ipykernel)",
   "language": "python",
   "name": "python3"
  },
  "language_info": {
   "codemirror_mode": {
    "name": "ipython",
    "version": 3
   },
   "file_extension": ".py",
   "mimetype": "text/x-python",
   "name": "python",
   "nbconvert_exporter": "python",
   "pygments_lexer": "ipython3",
   "version": "3.9.21"
  }
 },
 "nbformat": 4,
 "nbformat_minor": 5
}
