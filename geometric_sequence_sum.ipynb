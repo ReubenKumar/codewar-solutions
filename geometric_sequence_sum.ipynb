{
 "cells": [
  {
   "cell_type": "markdown",
   "id": "b50522e5-5cbd-43b1-b5e2-765dce665a2d",
   "metadata": {},
   "source": [
    "Description:\n",
    "Background\n",
    "\n",
    "A geometric progression / series is the sum of a geometric sequence.\n",
    "\n",
    "A geometric sequence is a sequence of numbers that scale by a common ratio, usually denoted as r. To get the next term, multiply the current term by this value. The first term is provided for this kata.\n",
    "\n",
    "For example, the first 4 terms of the geometric sequence with first term 2 and ratio 3 is 2, 6, 18, 54. Notice that, given any term, it is 3 times larger than the last term for this case.\n",
    "\n",
    "A geometric series is just the first n terms of the sequence summed together. For instance, the sum of the first four terms of the example provided above is \n",
    "2+6+18+54=80\n",
    "2+6+18+54=80.\n",
    "\n",
    "Kata Task\n",
    "\n",
    "Complete the function which will help you compute a geometric progression / series.\n",
    "\n",
    "The parameters provided are as follows:\n",
    "\n",
    "a is the first term\n",
    "r is the common ratio\n",
    "n is the amount of terms\n",
    "Example:\n",
    "\n",
    "a = 2, r = 3, n = 5 should return 242.\n",
    "\n",
    "Input constraints:\n",
    "\n",
    "a: 1 - 10\n",
    "r: -10 - 10\n",
    "n: 2 - 15"
   ]
  },
  {
   "cell_type": "code",
   "execution_count": 7,
   "id": "21bd1fbf-4c85-41b8-b394-e6bfdbda66b1",
   "metadata": {},
   "outputs": [],
   "source": [
    "def geometric_sequence_sum(a, r, n):\n",
    "    \n",
    "    count = 0\n",
    "    #loop n number of times\n",
    "    for x in range(n):\n",
    "        #increase the count by the new series value\n",
    "        count += a\n",
    "        #calculate next value in the series\n",
    "        a = a*r\n",
    "        \n",
    "    return count\n",
    "    "
   ]
  },
  {
   "cell_type": "code",
   "execution_count": 8,
   "id": "9618b77a-7f3a-41c7-b301-82b82275f5c6",
   "metadata": {},
   "outputs": [
    {
     "name": "stdout",
     "output_type": "stream",
     "text": [
      "242\n",
      "2\n",
      "2046\n",
      "-341\n",
      "1.998046875\n"
     ]
    }
   ],
   "source": [
    "print(geometric_sequence_sum(2, 3, 5))\n",
    "print(geometric_sequence_sum(1, 1, 2))\n",
    "print(geometric_sequence_sum(2, 2, 10))\n",
    "print(geometric_sequence_sum(1, -2, 10))\n",
    "print(geometric_sequence_sum(1, 0.5, 10))\n",
    "    \n",
    "    "
   ]
  }
 ],
 "metadata": {
  "kernelspec": {
   "display_name": "Python 3 (ipykernel)",
   "language": "python",
   "name": "python3"
  },
  "language_info": {
   "codemirror_mode": {
    "name": "ipython",
    "version": 3
   },
   "file_extension": ".py",
   "mimetype": "text/x-python",
   "name": "python",
   "nbconvert_exporter": "python",
   "pygments_lexer": "ipython3",
   "version": "3.9.21"
  }
 },
 "nbformat": 4,
 "nbformat_minor": 5
}
