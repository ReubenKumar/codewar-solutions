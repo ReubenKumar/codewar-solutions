{
 "cells": [
  {
   "cell_type": "markdown",
   "id": "4a6e4a51-17d8-40c8-8a49-fb6c5d8d5f41",
   "metadata": {},
   "source": [
    "Complete the square sum function so that it squares each number passed into it and then sums the results together."
   ]
  },
  {
   "cell_type": "code",
   "execution_count": 1,
   "id": "226a2cd9-6923-461e-840b-76356afc7dfa",
   "metadata": {},
   "outputs": [],
   "source": [
    "def square_sum(numbers):\n",
    "    total = 0\n",
    "    for x in numbers:\n",
    "        total += x**2\n",
    "    return total"
   ]
  },
  {
   "cell_type": "code",
   "execution_count": 6,
   "id": "9d5c5338-dc93-44d9-813b-dfc7141d185a",
   "metadata": {},
   "outputs": [
    {
     "name": "stdout",
     "output_type": "stream",
     "text": [
      "5\n",
      "50\n",
      "5\n",
      "0\n",
      "2\n"
     ]
    }
   ],
   "source": [
    "print(square_sum([1,2]))\n",
    "print(square_sum([0, 3, 4, 5]))\n",
    "print(square_sum([-1,-2]))\n",
    "print(square_sum([]))\n",
    "print(square_sum([-1,0,1]))"
   ]
  }
 ],
 "metadata": {
  "kernelspec": {
   "display_name": "Python 3 (ipykernel)",
   "language": "python",
   "name": "python3"
  },
  "language_info": {
   "codemirror_mode": {
    "name": "ipython",
    "version": 3
   },
   "file_extension": ".py",
   "mimetype": "text/x-python",
   "name": "python",
   "nbconvert_exporter": "python",
   "pygments_lexer": "ipython3",
   "version": "3.9.21"
  }
 },
 "nbformat": 4,
 "nbformat_minor": 5
}
