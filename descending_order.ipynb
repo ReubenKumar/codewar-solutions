{
 "cells": [
  {
   "cell_type": "markdown",
   "id": "a7113781-064f-4632-a090-0128930e1556",
   "metadata": {},
   "source": [
    "Your task is to make a function that can take any non-negative integer as an argument and return it with its digits in descending order. Essentially, rearrange the digits to create the highest possible number.\n",
    "\n",
    "Examples:\n",
    "Input: 42145 Output: 54421\n",
    "\n",
    "Input: 145263 Output: 654321\n",
    "\n",
    "Input: 123456789 Output: 987654321"
   ]
  },
  {
   "cell_type": "code",
   "execution_count": 31,
   "id": "039520a5-c5ec-4fdd-8deb-b8cad3fb10b5",
   "metadata": {},
   "outputs": [],
   "source": [
    "def descending_order(num):\n",
    "#take any non-negative integer as an argument and return it with its digits in descending order.\n",
    "    \n",
    "    # Convert the integer num into a list of strings\n",
    "    num_list = (list(str(num)))\n",
    "    # Sort the list in descending order\n",
    "    num_list.sort(reverse = True)\n",
    "    # Join the list into a single integer\n",
    "    num = int(\"\".join(num_list))\n",
    "    return num"
   ]
  },
  {
   "cell_type": "code",
   "execution_count": 32,
   "id": "c4235610-99cb-49cb-9085-f16660a9ff62",
   "metadata": {},
   "outputs": [
    {
     "name": "stdout",
     "output_type": "stream",
     "text": [
      "54321\n",
      "77771111\n",
      "9821100\n",
      "0\n"
     ]
    }
   ],
   "source": [
    "#test - assuming the input is a non negative value\n",
    "print(descending_order(12345))\n",
    "print(descending_order(17171717))\n",
    "print(descending_order(1902018))\n",
    "print(descending_order(0))"
   ]
  }
 ],
 "metadata": {
  "kernelspec": {
   "display_name": "Python 3 (ipykernel)",
   "language": "python",
   "name": "python3"
  },
  "language_info": {
   "codemirror_mode": {
    "name": "ipython",
    "version": 3
   },
   "file_extension": ".py",
   "mimetype": "text/x-python",
   "name": "python",
   "nbconvert_exporter": "python",
   "pygments_lexer": "ipython3",
   "version": "3.9.21"
  }
 },
 "nbformat": 4,
 "nbformat_minor": 5
}
