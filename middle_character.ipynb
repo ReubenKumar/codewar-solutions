{
 "cells": [
  {
   "cell_type": "markdown",
   "id": "a563789e-3c62-4de0-8c7f-c04ab1fcf0f6",
   "metadata": {},
   "source": [
    "You are going to be given a non-empty string. Your job is to return the middle character(s) of the string.\n",
    "\n",
    "If the string's length is odd, return the middle character.\n",
    "If the string's length is even, return the middle 2 characters."
   ]
  },
  {
   "cell_type": "code",
   "execution_count": 20,
   "id": "8e43fdad-3a9d-4e19-a94d-ff15ccb79193",
   "metadata": {},
   "outputs": [],
   "source": [
    "def get_middle(s):\n",
    "    # s must be a string \n",
    "    \n",
    "    # Determine if the string has an even length\n",
    "    if len(s)%2 == 0:\n",
    "    #if string length is even, find the two middle characters\n",
    "        out =  s[int(len(s)/2)-1:int(len(s)/2)+1]\n",
    "    else:\n",
    "    #if string length is odd, find the middle character\n",
    "        out = s[int(len(s)/2)]\n",
    "    return out"
   ]
  },
  {
   "cell_type": "code",
   "execution_count": 21,
   "id": "1163accf-4f72-40b7-90e7-77d0057b366f",
   "metadata": {},
   "outputs": [
    {
     "name": "stdout",
     "output_type": "stream",
     "text": [
      "\n",
      "es\n",
      "t\n",
      "dd\n",
      "A\n"
     ]
    }
   ],
   "source": [
    "print(get_middle(\"\"))\n",
    "print(get_middle(\"test\"))\n",
    "print(get_middle(\"testing\"))\n",
    "print(get_middle(\"middle\"))\n",
    "print(get_middle(\"A\"))"
   ]
  }
 ],
 "metadata": {
  "kernelspec": {
   "display_name": "Python 3 (ipykernel)",
   "language": "python",
   "name": "python3"
  },
  "language_info": {
   "codemirror_mode": {
    "name": "ipython",
    "version": 3
   },
   "file_extension": ".py",
   "mimetype": "text/x-python",
   "name": "python",
   "nbconvert_exporter": "python",
   "pygments_lexer": "ipython3",
   "version": "3.9.21"
  }
 },
 "nbformat": 4,
 "nbformat_minor": 5
}
